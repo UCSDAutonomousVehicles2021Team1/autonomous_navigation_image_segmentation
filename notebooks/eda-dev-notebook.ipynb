{
 "cells": [
  {
   "cell_type": "markdown",
   "metadata": {},
   "source": [
    "# Introduction\n",
    "\n",
    "In this notebook we do a basic EDA on the image data and features revealed with the help of the Detectron2 Library"
   ]
  },
  {
   "cell_type": "code",
   "execution_count": null,
   "metadata": {},
   "outputs": [],
   "source": [
    "# import some common libraries\n",
    "import matplotlib.pyplot as plt\n",
    "import numpy as np\n",
    "import cv2\n",
    "import os\n",
    "import torch\n",
    "\n",
    "%matplotlib inline\n",
    "\n",
    "\n",
    "# import some common detectron2 utilities\n",
    "import detectron2\n",
    "from detectron2.utils.logger import setup_logger\n",
    "setup_logger()\n",
    "from detectron2.engine import DefaultTrainer, DefaultPredictor\n",
    "from detectron2.config import get_cfg\n",
    "from detectron2.utils.visualizer import Visualizer\n",
    "from detectron2.data import MetadataCatalog, DatasetCatalog, build_detection_test_loader\n",
    "from detectron2.data.datasets import register_coco_instances\n",
    "from detectron2.config import get_cfg\n",
    "from detectron2.utils.visualizer import ColorMode\n",
    "from detectron2.evaluation import COCOEvaluator, inference_on_dataset\n",
    "%matplotlib inline"
   ]
  },
  {
   "cell_type": "markdown",
   "metadata": {},
   "source": [
    "First we must register our images and annotation files into the Detectron2 network"
   ]
  },
  {
   "cell_type": "code",
   "execution_count": null,
   "metadata": {},
   "outputs": [],
   "source": [
    "register_coco_instances(\"train_lane_cone_detector\", {}, \"../test/testdata/train/train.json\", \"../test/testdata/train\")"
   ]
  },
  {
   "cell_type": "markdown",
   "metadata": {},
   "source": [
    "We can then load in the saved metadata and images"
   ]
  },
  {
   "cell_type": "code",
   "execution_count": null,
   "metadata": {},
   "outputs": [],
   "source": [
    "train_dataset_metadata = MetadataCatalog.get(\"train_lane_cone_detector\")\n",
    "train_dataset_dicts = DatasetCatalog.get(\"train_lane_cone_detector\")"
   ]
  },
  {
   "cell_type": "markdown",
   "metadata": {},
   "source": [
    "Let's take a look at what the metadata contains"
   ]
  },
  {
   "cell_type": "code",
   "execution_count": null,
   "metadata": {},
   "outputs": [],
   "source": [
    "train_dataset_metadata"
   ]
  },
  {
   "cell_type": "markdown",
   "metadata": {},
   "source": [
    "As we can see it contains a lot of information about our dataset. Namely the location of the annotation files and the location of the images. It also was able to autodetect that are images are annotated in the COCO format (Our .json file is based of the COCO JSON captioning). Lastly it knows the possible labels our objects have (lane and cone) and has assigned integers to them for the Detectron2 network to use in calculating metrics."
   ]
  },
  {
   "cell_type": "markdown",
   "metadata": {},
   "source": [
    "Let's next take a look at the dictionary saved from the DatasetCatalog"
   ]
  },
  {
   "cell_type": "code",
   "execution_count": null,
   "metadata": {},
   "outputs": [],
   "source": [
    "train_dataset_dicts"
   ]
  },
  {
   "cell_type": "markdown",
   "metadata": {},
   "source": [
    "First we notice that it is saved into a list where each element has the same format. Let's take a look at an element"
   ]
  },
  {
   "cell_type": "code",
   "execution_count": null,
   "metadata": {},
   "outputs": [],
   "source": [
    "train_dataset_dicts[0]"
   ]
  },
  {
   "cell_type": "markdown",
   "metadata": {},
   "source": [
    "Each element seems to be talking about a specific image file in dictionary format. The dictionary contains information about the image name, it's height and width and also has an image ID attached to it. It's also contains a lot of details about the annotations, specifically the boundary boxes, segmentations and the category ID each of them belong to"
   ]
  },
  {
   "cell_type": "markdown",
   "metadata": {},
   "source": [
    "Let's plot one of the images now"
   ]
  },
  {
   "cell_type": "code",
   "execution_count": null,
   "metadata": {},
   "outputs": [],
   "source": [
    "img = cv2.imread(train_dataset_dicts[0][\"file_name\"])\n",
    "img = cv2.cvtColor(img, cv2.COLOR_BGR2RGB).astype(np.float)\n",
    "fig = plt.figure(figsize = (20,5))\n",
    "ax = fig.add_subplot(111)\n",
    "ax.imshow(img/255, interpolation='none')\n",
    "ax.set_title('Training Image')\n",
    "ax.axis(\"off\")\n",
    "fig.show()\n",
    "fig.tight_layout()"
   ]
  },
  {
   "cell_type": "markdown",
   "metadata": {},
   "source": [
    "We can see that the image does indeed have a cone and lane object. "
   ]
  },
  {
   "cell_type": "code",
   "execution_count": null,
   "metadata": {},
   "outputs": [],
   "source": [
    "img.shape"
   ]
  },
  {
   "cell_type": "markdown",
   "metadata": {},
   "source": [
    "We can also see the image indeed is a 360x1280 image. The 3 reflects 3 channels which is true since this is a BGR image"
   ]
  },
  {
   "cell_type": "markdown",
   "metadata": {},
   "source": [
    "Let's draw the boundary box and segmentation results on top of this"
   ]
  },
  {
   "cell_type": "code",
   "execution_count": null,
   "metadata": {},
   "outputs": [],
   "source": [
    "img = cv2.imread(train_dataset_dicts[0][\"file_name\"])\n",
    "img = cv2.cvtColor(img, cv2.COLOR_BGR2RGB).astype(np.float)\n",
    "visualizer = Visualizer(img[:, :, ::-1], metadata=train_dataset_metadata, scale=1)\n",
    "vis = visualizer.draw_dataset_dict(train_dataset_dicts[0])\n",
    "fig = plt.figure(figsize = (20,5))\n",
    "ax = fig.add_subplot(111)\n",
    "ax.imshow(vis.get_image()[:, :, ::-1]/255, interpolation='none')\n",
    "ax.set_title('Training Image with Labels')\n",
    "ax.axis(\"off\")\n",
    "fig.show()\n",
    "fig.tight_layout()"
   ]
  },
  {
   "cell_type": "markdown",
   "metadata": {},
   "source": [
    "We can see the iamge has appropriate boundary boxes and segmentations surrounding it as well"
   ]
  },
  {
   "cell_type": "markdown",
   "metadata": {},
   "source": [
    "The Detectron2 Network will be trained on such images and then finally use an inference on an unknown set of images to make a video"
   ]
  }
 ],
 "metadata": {
  "kernelspec": {
   "display_name": "Python 3",
   "language": "python",
   "name": "python3"
  },
  "language_info": {
   "codemirror_mode": {
    "name": "ipython",
    "version": 3
   },
   "file_extension": ".py",
   "mimetype": "text/x-python",
   "name": "python",
   "nbconvert_exporter": "python",
   "pygments_lexer": "ipython3",
   "version": "3.7.6"
  }
 },
 "nbformat": 4,
 "nbformat_minor": 4
}
